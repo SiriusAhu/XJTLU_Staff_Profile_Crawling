{
 "cells": [
  {
   "cell_type": "code",
   "execution_count": 1,
   "metadata": {},
   "outputs": [],
   "source": [
    "from config import *\n",
    "from utils import *\n",
    "\n",
    "# Proxy off\n",
    "os.environ['no_proxy'] = '*'\n",
    "\n",
    "# Read the name2url from the csv file\n",
    "name2url_all = load_csv2dict(pth_name2url)"
   ]
  },
  {
   "cell_type": "code",
   "execution_count": 2,
   "metadata": {},
   "outputs": [],
   "source": [
    "TEXTBLOCK_LIST = ['Personal profile',\n",
    "                  'Research interests',\n",
    "                  'Teaching',\n",
    "                  'Awards and honours',\n",
    "                  'Experience']\n",
    "\n",
    "name2url_all = load_csv2dict(pth_name2url)"
   ]
  },
  {
   "cell_type": "code",
   "execution_count": 3,
   "metadata": {},
   "outputs": [
    {
     "name": "stderr",
     "output_type": "stream",
     "text": [
      "100%|██████████| 2026/2026 [00:23<00:00, 84.42it/s] \n"
     ]
    }
   ],
   "source": [
    "name2info_all = get_info_all_people_local(DIR_CACHE_ROOT)"
   ]
  },
  {
   "cell_type": "code",
   "execution_count": 12,
   "metadata": {},
   "outputs": [
    {
     "data": {
      "text/html": [
       "<div>\n",
       "<style scoped>\n",
       "    .dataframe tbody tr th:only-of-type {\n",
       "        vertical-align: middle;\n",
       "    }\n",
       "\n",
       "    .dataframe tbody tr th {\n",
       "        vertical-align: top;\n",
       "    }\n",
       "\n",
       "    .dataframe thead th {\n",
       "        text-align: right;\n",
       "    }\n",
       "</style>\n",
       "<table border=\"1\" class=\"dataframe\">\n",
       "  <thead>\n",
       "    <tr style=\"text-align: right;\">\n",
       "      <th></th>\n",
       "      <th>Name</th>\n",
       "      <th>Department</th>\n",
       "      <th>Academic qualification</th>\n",
       "      <th>Personal profile</th>\n",
       "      <th>Research interests</th>\n",
       "      <th>Teaching</th>\n",
       "      <th>Awards and honours</th>\n",
       "      <th>Experience</th>\n",
       "    </tr>\n",
       "  </thead>\n",
       "  <tbody>\n",
       "    <tr>\n",
       "      <th>0</th>\n",
       "      <td>Giorgio Monti</td>\n",
       "      <td>Department of Civil Engineering</td>\n",
       "      <td></td>\n",
       "      <td>N/A</td>\n",
       "      <td>N/A</td>\n",
       "      <td>N/A</td>\n",
       "      <td>N/A</td>\n",
       "      <td>N/A</td>\n",
       "    </tr>\n",
       "    <tr>\n",
       "      <th>1</th>\n",
       "      <td>Rui Yao</td>\n",
       "      <td>School of Advanced Technology</td>\n",
       "      <td></td>\n",
       "      <td>N/A</td>\n",
       "      <td>N/A</td>\n",
       "      <td>N/A</td>\n",
       "      <td>N/A</td>\n",
       "      <td>N/A</td>\n",
       "    </tr>\n",
       "    <tr>\n",
       "      <th>2</th>\n",
       "      <td>Mingli Huang</td>\n",
       "      <td>International Business School Suzhou</td>\n",
       "      <td>PhD, Marketing, University of Liverpool UK  | ...</td>\n",
       "      <td>I am a Marketing Ph.D. student at University o...</td>\n",
       "      <td></td>\n",
       "      <td>Teaching Assistant</td>\n",
       "      <td>N/A</td>\n",
       "      <td></td>\n",
       "    </tr>\n",
       "    <tr>\n",
       "      <th>3</th>\n",
       "      <td>Di Zhang</td>\n",
       "      <td>School of AI and Advanced Computing</td>\n",
       "      <td></td>\n",
       "      <td>Di Zhang is an associate professor at School o...</td>\n",
       "      <td>N/A</td>\n",
       "      <td>N/A</td>\n",
       "      <td>N/A</td>\n",
       "      <td>N/A</td>\n",
       "    </tr>\n",
       "    <tr>\n",
       "      <th>4</th>\n",
       "      <td>Dongyuan Yang</td>\n",
       "      <td>School of Intelligent Finance and Business</td>\n",
       "      <td></td>\n",
       "      <td>N/A</td>\n",
       "      <td>N/A</td>\n",
       "      <td>N/A</td>\n",
       "      <td>N/A</td>\n",
       "      <td>N/A</td>\n",
       "    </tr>\n",
       "    <tr>\n",
       "      <th>...</th>\n",
       "      <td>...</td>\n",
       "      <td>...</td>\n",
       "      <td>...</td>\n",
       "      <td>...</td>\n",
       "      <td>...</td>\n",
       "      <td>...</td>\n",
       "      <td>...</td>\n",
       "      <td>...</td>\n",
       "    </tr>\n",
       "    <tr>\n",
       "      <th>2021</th>\n",
       "      <td>Shu Deng</td>\n",
       "      <td>English Language Centre</td>\n",
       "      <td>MA, The Universidad de Deusto, Bilbao, Spain, ...</td>\n",
       "      <td></td>\n",
       "      <td>Education and Culture Mass Higher Education St...</td>\n",
       "      <td>N/A</td>\n",
       "      <td>2014 Erasmus Mundus Scholarship, Erasmus Mundu...</td>\n",
       "      <td>EAP Tutor, Xiapos;an Jiaotong Liverpool Univer...</td>\n",
       "    </tr>\n",
       "    <tr>\n",
       "      <th>2022</th>\n",
       "      <td>Xiaoyan Liang</td>\n",
       "      <td>Department of Strategic Management and Organis...</td>\n",
       "      <td>PhD. Monash University, 2014-2017 | M.A. Shang...</td>\n",
       "      <td>Dr. Xiaoyan (Christiana) Liang is an Assistant...</td>\n",
       "      <td>CSR and ethics | Leadership | Sustainable HRM ...</td>\n",
       "      <td>BUS422 Doing Business with Chinese Companies a...</td>\n",
       "      <td>Winner Of 2014 ANZ Future Leader Award | Best ...</td>\n",
       "      <td>Lecturer, Central Queensland University (2018-...</td>\n",
       "    </tr>\n",
       "    <tr>\n",
       "      <th>2023</th>\n",
       "      <td>Jiahao Wu</td>\n",
       "      <td>School of Science</td>\n",
       "      <td></td>\n",
       "      <td>N/A</td>\n",
       "      <td>N/A</td>\n",
       "      <td>N/A</td>\n",
       "      <td>N/A</td>\n",
       "      <td>N/A</td>\n",
       "    </tr>\n",
       "    <tr>\n",
       "      <th>2024</th>\n",
       "      <td>Wei Wang</td>\n",
       "      <td>Department of Computing</td>\n",
       "      <td>PhD in Computer Science, University of Notting...</td>\n",
       "      <td>I received the PhD degree in Computer Science ...</td>\n",
       "      <td>Data and Knowledge Engineering</td>\n",
       "      <td>CPT406 Software Architectures | CPT201 Databas...</td>\n",
       "      <td>N/A</td>\n",
       "      <td>Senior associate professor, Xian Jiaotong-Live...</td>\n",
       "    </tr>\n",
       "    <tr>\n",
       "      <th>2025</th>\n",
       "      <td>Yufan Zheng</td>\n",
       "      <td>School of Intelligent Manufacturing Ecosystem</td>\n",
       "      <td>PGcert, Teaching and Supporting Learning in Hi...</td>\n",
       "      <td>Dr. Yufan Zheng (郑羽帆) received his Ph.D. degre...</td>\n",
       "      <td>Scheduling and Process Planning Optimization |...</td>\n",
       "      <td>MFE208-Additive Manufacturing | MFE201-Princip...</td>\n",
       "      <td>Academic Excellence Award, School of IME, XJTL...</td>\n",
       "      <td>Assistant Professor, XJTLU, China, 2021-presen...</td>\n",
       "    </tr>\n",
       "  </tbody>\n",
       "</table>\n",
       "<p>2026 rows × 8 columns</p>\n",
       "</div>"
      ],
      "text/plain": [
       "               Name                                         Department  \\\n",
       "0     Giorgio Monti                    Department of Civil Engineering   \n",
       "1           Rui Yao                      School of Advanced Technology   \n",
       "2      Mingli Huang               International Business School Suzhou   \n",
       "3          Di Zhang                School of AI and Advanced Computing   \n",
       "4     Dongyuan Yang         School of Intelligent Finance and Business   \n",
       "...             ...                                                ...   \n",
       "2021       Shu Deng                            English Language Centre   \n",
       "2022  Xiaoyan Liang  Department of Strategic Management and Organis...   \n",
       "2023      Jiahao Wu                                  School of Science   \n",
       "2024       Wei Wang                            Department of Computing   \n",
       "2025    Yufan Zheng      School of Intelligent Manufacturing Ecosystem   \n",
       "\n",
       "                                 Academic qualification  \\\n",
       "0                                                         \n",
       "1                                                         \n",
       "2     PhD, Marketing, University of Liverpool UK  | ...   \n",
       "3                                                         \n",
       "4                                                         \n",
       "...                                                 ...   \n",
       "2021  MA, The Universidad de Deusto, Bilbao, Spain, ...   \n",
       "2022  PhD. Monash University, 2014-2017 | M.A. Shang...   \n",
       "2023                                                      \n",
       "2024  PhD in Computer Science, University of Notting...   \n",
       "2025  PGcert, Teaching and Supporting Learning in Hi...   \n",
       "\n",
       "                                       Personal profile  \\\n",
       "0                                                   N/A   \n",
       "1                                                   N/A   \n",
       "2     I am a Marketing Ph.D. student at University o...   \n",
       "3     Di Zhang is an associate professor at School o...   \n",
       "4                                                   N/A   \n",
       "...                                                 ...   \n",
       "2021                                                      \n",
       "2022  Dr. Xiaoyan (Christiana) Liang is an Assistant...   \n",
       "2023                                                N/A   \n",
       "2024  I received the PhD degree in Computer Science ...   \n",
       "2025  Dr. Yufan Zheng (郑羽帆) received his Ph.D. degre...   \n",
       "\n",
       "                                     Research interests  \\\n",
       "0                                                   N/A   \n",
       "1                                                   N/A   \n",
       "2                                                         \n",
       "3                                                   N/A   \n",
       "4                                                   N/A   \n",
       "...                                                 ...   \n",
       "2021  Education and Culture Mass Higher Education St...   \n",
       "2022  CSR and ethics | Leadership | Sustainable HRM ...   \n",
       "2023                                                N/A   \n",
       "2024                     Data and Knowledge Engineering   \n",
       "2025  Scheduling and Process Planning Optimization |...   \n",
       "\n",
       "                                               Teaching  \\\n",
       "0                                                   N/A   \n",
       "1                                                   N/A   \n",
       "2                                    Teaching Assistant   \n",
       "3                                                   N/A   \n",
       "4                                                   N/A   \n",
       "...                                                 ...   \n",
       "2021                                                N/A   \n",
       "2022  BUS422 Doing Business with Chinese Companies a...   \n",
       "2023                                                N/A   \n",
       "2024  CPT406 Software Architectures | CPT201 Databas...   \n",
       "2025  MFE208-Additive Manufacturing | MFE201-Princip...   \n",
       "\n",
       "                                     Awards and honours  \\\n",
       "0                                                   N/A   \n",
       "1                                                   N/A   \n",
       "2                                                   N/A   \n",
       "3                                                   N/A   \n",
       "4                                                   N/A   \n",
       "...                                                 ...   \n",
       "2021  2014 Erasmus Mundus Scholarship, Erasmus Mundu...   \n",
       "2022  Winner Of 2014 ANZ Future Leader Award | Best ...   \n",
       "2023                                                N/A   \n",
       "2024                                                N/A   \n",
       "2025  Academic Excellence Award, School of IME, XJTL...   \n",
       "\n",
       "                                             Experience  \n",
       "0                                                   N/A  \n",
       "1                                                   N/A  \n",
       "2                                                        \n",
       "3                                                   N/A  \n",
       "4                                                   N/A  \n",
       "...                                                 ...  \n",
       "2021  EAP Tutor, Xiapos;an Jiaotong Liverpool Univer...  \n",
       "2022  Lecturer, Central Queensland University (2018-...  \n",
       "2023                                                N/A  \n",
       "2024  Senior associate professor, Xian Jiaotong-Live...  \n",
       "2025  Assistant Professor, XJTLU, China, 2021-presen...  \n",
       "\n",
       "[2026 rows x 8 columns]"
      ]
     },
     "execution_count": 12,
     "metadata": {},
     "output_type": "execute_result"
    }
   ],
   "source": [
    "import pandas as pd\n",
    "\n",
    "df = pd.DataFrame(name2info_all.values())\n",
    "df"
   ]
  },
  {
   "cell_type": "code",
   "execution_count": 15,
   "metadata": {},
   "outputs": [],
   "source": [
    "def save_csv_info(info, file_path):\n",
    "    \"\"\"\n",
    "    Given the dictionary of name to info, save it to the file path\n",
    "    \"\"\"\n",
    "    df = pd.DataFrame(info)\n",
    "    df.to_csv(file_path, index=False)"
   ]
  },
  {
   "cell_type": "code",
   "execution_count": 16,
   "metadata": {},
   "outputs": [],
   "source": [
    "save_csv_info(name2info_all.values(), pth_name2info)"
   ]
  },
  {
   "cell_type": "code",
   "execution_count": 17,
   "metadata": {},
   "outputs": [
    {
     "name": "stdout",
     "output_type": "stream",
     "text": [
      "[info] 43 pages found.\n"
     ]
    },
    {
     "name": "stderr",
     "output_type": "stream",
     "text": [
      "100%|██████████| 42/42 [00:42<00:00,  1.01s/it]"
     ]
    },
    {
     "name": "stdout",
     "output_type": "stream",
     "text": [
      "[INFO] Got 2026 urls.\n"
     ]
    },
    {
     "name": "stderr",
     "output_type": "stream",
     "text": [
      "\n"
     ]
    }
   ],
   "source": [
    "from config import *\n",
    "from utils import *\n",
    "\n",
    "# Proxy off\n",
    "os.environ['no_proxy'] = '*'\n",
    "\n",
    "name2url_all = get_name2url_all_pages(URL_ROOT)\n",
    "print(f\"[INFO] Got {len(name2url_all)} urls.\")"
   ]
  },
  {
   "cell_type": "code",
   "execution_count": 22,
   "metadata": {},
   "outputs": [
    {
     "name": "stdout",
     "output_type": "stream",
     "text": [
      "[INFO] Results saved to ./output/name2url.csv\n"
     ]
    }
   ],
   "source": [
    "def save_csv_info(info, file_path, columns=None):\n",
    "    \"\"\"\n",
    "    Given the dictionary of name to info, save it to the file path\n",
    "    \"\"\"\n",
    "    df = pd.DataFrame(info, columns=columns)\n",
    "    df.to_csv(file_path, index=False)\n",
    "\n",
    "save_csv_info(name2url_all.items(), pth_name2url)\n",
    "print(f\"[INFO] Results saved to {pth_name2url}\")"
   ]
  },
  {
   "cell_type": "code",
   "execution_count": 34,
   "metadata": {},
   "outputs": [
    {
     "name": "stderr",
     "output_type": "stream",
     "text": [
      "/home/ahu/anaconda3/envs/crawler/lib/python3.10/site-packages/openpyxl/workbook/child.py:99: UserWarning: Title is more than 31 characters. Some applications may not be able to read the file\n",
      "  warnings.warn(\"Title is more than 31 characters. Some applications may not be able to read the file\")\n"
     ]
    }
   ],
   "source": [
    "BASIC_INFO_LIST = ['Name', 'Department', 'Academic qualification']\n",
    "\n",
    "def save2xlsx_sheeted(info, file_path_endwith_csv, columns=None):\n",
    "    \"\"\"\n",
    "    Given the dictionary of name to info, save it to xlsx with multiple sheets\n",
    "    \"\"\"\n",
    "    writer = pd.ExcelWriter(file_path_endwith_csv.replace('.csv', '.xlsx'))\n",
    "    df = pd.DataFrame(info, columns=columns)\n",
    "    df = df.sort_values(by=['Department', 'Name'])\n",
    "    for department in set(df['Department']):\n",
    "        df_department = df[df['Department'] == department]\n",
    "        df_department.to_excel(writer, sheet_name=department.replace(' ', '_') if department else 'None', index=False)\n",
    "    writer._save()\n",
    "\n",
    "save2xlsx_sheeted(name2info_all.values(), pth_name2info, columns=BASIC_INFO_LIST + TEXTBLOCK_LIST)"
   ]
  },
  {
   "cell_type": "code",
   "execution_count": 36,
   "metadata": {},
   "outputs": [
    {
     "data": {
      "text/plain": [
       "43"
      ]
     },
     "execution_count": 36,
     "metadata": {},
     "output_type": "execute_result"
    }
   ],
   "source": [
    "get_page_num(\"https://scholar.xjtlu.edu.cn/en/persons/?nofollow=true&indexableKeyword=%2Fdk%2Fatira%2Fpure%2Fkeywords%2FPerson_Types%2Fstaff&page=1\")"
   ]
  },
  {
   "cell_type": "code",
   "execution_count": 44,
   "metadata": {},
   "outputs": [],
   "source": [
    "response = requests.get(\"https://scholar.xjtlu.edu.cn/en/persons/?nofollow=true&indexableKeyword=%2Fdk%2Fatira%2Fpure%2Fkeywords%2FPerson_Types%2Fstaff&page=1\")\n",
    "soup = BeautifulSoup(response.text, 'html.parser')\n",
    "page = soup.find_all('a', class_='step')[-1]"
   ]
  },
  {
   "cell_type": "code",
   "execution_count": 45,
   "metadata": {},
   "outputs": [
    {
     "data": {
      "text/plain": [
       "<a aria-label=\"Goto page10\" class=\"step\" href=\"/en/persons/?nofollow=true&amp;indexableKeyword=%2Fdk%2Fatira%2Fpure%2Fkeywords%2FPerson_Types%2Fstaff&amp;page=42\">43</a>"
      ]
     },
     "execution_count": 45,
     "metadata": {},
     "output_type": "execute_result"
    }
   ],
   "source": [
    "page"
   ]
  },
  {
   "cell_type": "code",
   "execution_count": 48,
   "metadata": {},
   "outputs": [],
   "source": [
    "url = \"https://scholar.xjtlu.edu.cn/en/persons/hjiang\"\n",
    "response = requests.get(url)\n",
    "soup = BeautifulSoup(response.text, 'html.parser')"
   ]
  },
  {
   "cell_type": "code",
   "execution_count": 52,
   "metadata": {},
   "outputs": [
    {
     "data": {
      "text/plain": [
       "'Staff'"
      ]
     },
     "execution_count": 52,
     "metadata": {},
     "output_type": "execute_result"
    }
   ],
   "source": [
    "pt = soup.find('ul', class_='relations keywords').find_next('span').string\n",
    "pt"
   ]
  }
 ],
 "metadata": {
  "kernelspec": {
   "display_name": "misc",
   "language": "python",
   "name": "python3"
  },
  "language_info": {
   "codemirror_mode": {
    "name": "ipython",
    "version": 3
   },
   "file_extension": ".py",
   "mimetype": "text/x-python",
   "name": "python",
   "nbconvert_exporter": "python",
   "pygments_lexer": "ipython3",
   "version": "3.10.14"
  }
 },
 "nbformat": 4,
 "nbformat_minor": 2
}
